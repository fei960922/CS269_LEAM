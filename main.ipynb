{
 "cells": [
  {
   "cell_type": "code",
   "execution_count": 1,
   "metadata": {},
   "outputs": [],
   "source": [
    "import os\n",
    "from model import *"
   ]
  },
  {
   "cell_type": "markdown",
   "metadata": {},
   "source": [
    "## LEAM \n",
    "1-layer embeding with label attention, 1-layer mlp for classification"
   ]
  },
  {
   "cell_type": "code",
   "execution_count": 2,
   "metadata": {},
   "outputs": [
    {
     "ename": "RuntimeError",
     "evalue": "cublas runtime error : the GPU program failed to execute at /pytorch/aten/src/THC/THCBlas.cu:441",
     "output_type": "error",
     "traceback": [
      "\u001b[0;31m---------------------------------------------------------------------------\u001b[0m",
      "\u001b[0;31mRuntimeError\u001b[0m                              Traceback (most recent call last)",
      "\u001b[0;32m<ipython-input-2-5f801bee3e7a>\u001b[0m in \u001b[0;36m<module>\u001b[0;34m\u001b[0m\n\u001b[1;32m     17\u001b[0m \u001b[0mtrainer\u001b[0m\u001b[0;34m.\u001b[0m\u001b[0mset_validation\u001b[0m\u001b[0;34m(\u001b[0m\u001b[0mtest_set\u001b[0m\u001b[0;34m,\u001b[0m \u001b[0mtest_labels\u001b[0m\u001b[0;34m)\u001b[0m\u001b[0;34m\u001b[0m\u001b[0;34m\u001b[0m\u001b[0m\n\u001b[1;32m     18\u001b[0m \u001b[0mtrainer\u001b[0m\u001b[0;34m.\u001b[0m\u001b[0minit_model\u001b[0m\u001b[0;34m(\u001b[0m\u001b[0mmodel\u001b[0m\u001b[0;34m)\u001b[0m\u001b[0;34m\u001b[0m\u001b[0;34m\u001b[0m\u001b[0m\n\u001b[0;32m---> 19\u001b[0;31m \u001b[0mtrain_prob\u001b[0m\u001b[0;34m,\u001b[0m \u001b[0mtrain_beta\u001b[0m \u001b[0;34m=\u001b[0m \u001b[0mtrainer\u001b[0m\u001b[0;34m.\u001b[0m\u001b[0mfit\u001b[0m\u001b[0;34m(\u001b[0m\u001b[0mtrain_set\u001b[0m\u001b[0;34m,\u001b[0m \u001b[0mtrain_labels\u001b[0m\u001b[0;34m,\u001b[0m \u001b[0mclass_names\u001b[0m\u001b[0;34m)\u001b[0m\u001b[0;34m\u001b[0m\u001b[0;34m\u001b[0m\u001b[0m\n\u001b[0m",
      "\u001b[0;32m~/Documents/UCLA_Course/CS269/project/trainer.py\u001b[0m in \u001b[0;36mfit\u001b[0;34m(self, x, y, class_names)\u001b[0m\n\u001b[1;32m     94\u001b[0m                 \u001b[0mmodel\u001b[0m\u001b[0;34m.\u001b[0m\u001b[0mzero_grad\u001b[0m\u001b[0;34m(\u001b[0m\u001b[0;34m)\u001b[0m\u001b[0;34m\u001b[0m\u001b[0;34m\u001b[0m\u001b[0m\n\u001b[1;32m     95\u001b[0m                 \u001b[0;32mif\u001b[0m \u001b[0mself\u001b[0m\u001b[0;34m.\u001b[0m\u001b[0mmodel_type\u001b[0m \u001b[0;34m==\u001b[0m \u001b[0;34m'embed'\u001b[0m\u001b[0;34m:\u001b[0m\u001b[0;34m\u001b[0m\u001b[0;34m\u001b[0m\u001b[0m\n\u001b[0;32m---> 96\u001b[0;31m                     \u001b[0mprob\u001b[0m\u001b[0;34m,\u001b[0m \u001b[0mbeta\u001b[0m\u001b[0;34m,\u001b[0m \u001b[0mloss\u001b[0m \u001b[0;34m=\u001b[0m \u001b[0mmodel\u001b[0m\u001b[0;34m(\u001b[0m\u001b[0minputs\u001b[0m\u001b[0;34m,\u001b[0m \u001b[0mFloatTensor\u001b[0m\u001b[0;34m(\u001b[0m\u001b[0mtargets\u001b[0m\u001b[0;34m)\u001b[0m\u001b[0;34m)\u001b[0m\u001b[0;34m\u001b[0m\u001b[0;34m\u001b[0m\u001b[0m\n\u001b[0m\u001b[1;32m     97\u001b[0m                 \u001b[0;32melif\u001b[0m \u001b[0mself\u001b[0m\u001b[0;34m.\u001b[0m\u001b[0mmodel_type\u001b[0m \u001b[0;34m==\u001b[0m \u001b[0;34m'bow'\u001b[0m\u001b[0;34m:\u001b[0m\u001b[0;34m\u001b[0m\u001b[0;34m\u001b[0m\u001b[0m\n\u001b[1;32m     98\u001b[0m                     \u001b[0mprob\u001b[0m\u001b[0;34m,\u001b[0m \u001b[0mloss\u001b[0m \u001b[0;34m=\u001b[0m \u001b[0mmodel\u001b[0m\u001b[0;34m(\u001b[0m\u001b[0mFloatTensor\u001b[0m\u001b[0;34m(\u001b[0m\u001b[0minputs\u001b[0m\u001b[0;34m)\u001b[0m\u001b[0;34m,\u001b[0m \u001b[0mFloatTensor\u001b[0m\u001b[0;34m(\u001b[0m\u001b[0mtargets\u001b[0m\u001b[0;34m)\u001b[0m\u001b[0;34m)\u001b[0m\u001b[0;34m\u001b[0m\u001b[0;34m\u001b[0m\u001b[0m\n",
      "\u001b[0;32m~/.local/lib/python3.6/site-packages/torch/nn/modules/module.py\u001b[0m in \u001b[0;36m__call__\u001b[0;34m(self, *input, **kwargs)\u001b[0m\n\u001b[1;32m    487\u001b[0m             \u001b[0mresult\u001b[0m \u001b[0;34m=\u001b[0m \u001b[0mself\u001b[0m\u001b[0;34m.\u001b[0m\u001b[0m_slow_forward\u001b[0m\u001b[0;34m(\u001b[0m\u001b[0;34m*\u001b[0m\u001b[0minput\u001b[0m\u001b[0;34m,\u001b[0m \u001b[0;34m**\u001b[0m\u001b[0mkwargs\u001b[0m\u001b[0;34m)\u001b[0m\u001b[0;34m\u001b[0m\u001b[0;34m\u001b[0m\u001b[0m\n\u001b[1;32m    488\u001b[0m         \u001b[0;32melse\u001b[0m\u001b[0;34m:\u001b[0m\u001b[0;34m\u001b[0m\u001b[0;34m\u001b[0m\u001b[0m\n\u001b[0;32m--> 489\u001b[0;31m             \u001b[0mresult\u001b[0m \u001b[0;34m=\u001b[0m \u001b[0mself\u001b[0m\u001b[0;34m.\u001b[0m\u001b[0mforward\u001b[0m\u001b[0;34m(\u001b[0m\u001b[0;34m*\u001b[0m\u001b[0minput\u001b[0m\u001b[0;34m,\u001b[0m \u001b[0;34m**\u001b[0m\u001b[0mkwargs\u001b[0m\u001b[0;34m)\u001b[0m\u001b[0;34m\u001b[0m\u001b[0;34m\u001b[0m\u001b[0m\n\u001b[0m\u001b[1;32m    490\u001b[0m         \u001b[0;32mfor\u001b[0m \u001b[0mhook\u001b[0m \u001b[0;32min\u001b[0m \u001b[0mself\u001b[0m\u001b[0;34m.\u001b[0m\u001b[0m_forward_hooks\u001b[0m\u001b[0;34m.\u001b[0m\u001b[0mvalues\u001b[0m\u001b[0;34m(\u001b[0m\u001b[0;34m)\u001b[0m\u001b[0;34m:\u001b[0m\u001b[0;34m\u001b[0m\u001b[0;34m\u001b[0m\u001b[0m\n\u001b[1;32m    491\u001b[0m             \u001b[0mhook_result\u001b[0m \u001b[0;34m=\u001b[0m \u001b[0mhook\u001b[0m\u001b[0;34m(\u001b[0m\u001b[0mself\u001b[0m\u001b[0;34m,\u001b[0m \u001b[0minput\u001b[0m\u001b[0;34m,\u001b[0m \u001b[0mresult\u001b[0m\u001b[0;34m)\u001b[0m\u001b[0;34m\u001b[0m\u001b[0;34m\u001b[0m\u001b[0m\n",
      "\u001b[0;32m~/Documents/UCLA_Course/CS269/project/model.py\u001b[0m in \u001b[0;36mforward\u001b[0;34m(self, inputs, target)\u001b[0m\n\u001b[1;32m    110\u001b[0m \u001b[0;34m\u001b[0m\u001b[0m\n\u001b[1;32m    111\u001b[0m     \u001b[0;32mdef\u001b[0m \u001b[0mforward\u001b[0m\u001b[0;34m(\u001b[0m\u001b[0mself\u001b[0m\u001b[0;34m,\u001b[0m \u001b[0minputs\u001b[0m\u001b[0;34m,\u001b[0m \u001b[0mtarget\u001b[0m\u001b[0;34m=\u001b[0m\u001b[0;32mNone\u001b[0m\u001b[0;34m)\u001b[0m\u001b[0;34m:\u001b[0m\u001b[0;34m\u001b[0m\u001b[0;34m\u001b[0m\u001b[0m\n\u001b[0;32m--> 112\u001b[0;31m         \u001b[0membed\u001b[0m\u001b[0;34m,\u001b[0m \u001b[0mbeta\u001b[0m \u001b[0;34m=\u001b[0m \u001b[0mself\u001b[0m\u001b[0;34m.\u001b[0m\u001b[0membedding\u001b[0m\u001b[0;34m(\u001b[0m\u001b[0minputs\u001b[0m\u001b[0;34m)\u001b[0m\u001b[0;34m\u001b[0m\u001b[0;34m\u001b[0m\u001b[0m\n\u001b[0m\u001b[1;32m    113\u001b[0m         \u001b[0;32mif\u001b[0m \u001b[0mtarget\u001b[0m \u001b[0;32mis\u001b[0m \u001b[0;32mnot\u001b[0m \u001b[0;32mNone\u001b[0m\u001b[0;34m:\u001b[0m\u001b[0;34m\u001b[0m\u001b[0;34m\u001b[0m\u001b[0m\n\u001b[1;32m    114\u001b[0m             \u001b[0mprob\u001b[0m\u001b[0;34m,\u001b[0m \u001b[0mloss\u001b[0m \u001b[0;34m=\u001b[0m \u001b[0mself\u001b[0m\u001b[0;34m.\u001b[0m\u001b[0mclassifier\u001b[0m\u001b[0;34m(\u001b[0m\u001b[0membed\u001b[0m\u001b[0;34m,\u001b[0m \u001b[0mtarget\u001b[0m\u001b[0;34m)\u001b[0m\u001b[0;34m\u001b[0m\u001b[0;34m\u001b[0m\u001b[0m\n",
      "\u001b[0;32m~/.local/lib/python3.6/site-packages/torch/nn/modules/module.py\u001b[0m in \u001b[0;36m__call__\u001b[0;34m(self, *input, **kwargs)\u001b[0m\n\u001b[1;32m    487\u001b[0m             \u001b[0mresult\u001b[0m \u001b[0;34m=\u001b[0m \u001b[0mself\u001b[0m\u001b[0;34m.\u001b[0m\u001b[0m_slow_forward\u001b[0m\u001b[0;34m(\u001b[0m\u001b[0;34m*\u001b[0m\u001b[0minput\u001b[0m\u001b[0;34m,\u001b[0m \u001b[0;34m**\u001b[0m\u001b[0mkwargs\u001b[0m\u001b[0;34m)\u001b[0m\u001b[0;34m\u001b[0m\u001b[0;34m\u001b[0m\u001b[0m\n\u001b[1;32m    488\u001b[0m         \u001b[0;32melse\u001b[0m\u001b[0;34m:\u001b[0m\u001b[0;34m\u001b[0m\u001b[0;34m\u001b[0m\u001b[0m\n\u001b[0;32m--> 489\u001b[0;31m             \u001b[0mresult\u001b[0m \u001b[0;34m=\u001b[0m \u001b[0mself\u001b[0m\u001b[0;34m.\u001b[0m\u001b[0mforward\u001b[0m\u001b[0;34m(\u001b[0m\u001b[0;34m*\u001b[0m\u001b[0minput\u001b[0m\u001b[0;34m,\u001b[0m \u001b[0;34m**\u001b[0m\u001b[0mkwargs\u001b[0m\u001b[0;34m)\u001b[0m\u001b[0;34m\u001b[0m\u001b[0;34m\u001b[0m\u001b[0m\n\u001b[0m\u001b[1;32m    490\u001b[0m         \u001b[0;32mfor\u001b[0m \u001b[0mhook\u001b[0m \u001b[0;32min\u001b[0m \u001b[0mself\u001b[0m\u001b[0;34m.\u001b[0m\u001b[0m_forward_hooks\u001b[0m\u001b[0;34m.\u001b[0m\u001b[0mvalues\u001b[0m\u001b[0;34m(\u001b[0m\u001b[0;34m)\u001b[0m\u001b[0;34m:\u001b[0m\u001b[0;34m\u001b[0m\u001b[0;34m\u001b[0m\u001b[0m\n\u001b[1;32m    491\u001b[0m             \u001b[0mhook_result\u001b[0m \u001b[0;34m=\u001b[0m \u001b[0mhook\u001b[0m\u001b[0;34m(\u001b[0m\u001b[0mself\u001b[0m\u001b[0;34m,\u001b[0m \u001b[0minput\u001b[0m\u001b[0;34m,\u001b[0m \u001b[0mresult\u001b[0m\u001b[0;34m)\u001b[0m\u001b[0;34m\u001b[0m\u001b[0;34m\u001b[0m\u001b[0m\n",
      "\u001b[0;32m~/Documents/UCLA_Course/CS269/project/model.py\u001b[0m in \u001b[0;36mforward\u001b[0;34m(self, inputs)\u001b[0m\n\u001b[1;32m     45\u001b[0m             \u001b[0memb_norm_t\u001b[0m \u001b[0;34m=\u001b[0m \u001b[0memb_norm\u001b[0m\u001b[0;34m.\u001b[0m\u001b[0mpermute\u001b[0m\u001b[0;34m(\u001b[0m\u001b[0;36m0\u001b[0m\u001b[0;34m,\u001b[0m \u001b[0;36m2\u001b[0m\u001b[0;34m,\u001b[0m \u001b[0;36m1\u001b[0m\u001b[0;34m)\u001b[0m\u001b[0;34m\u001b[0m\u001b[0;34m\u001b[0m\u001b[0m\n\u001b[1;32m     46\u001b[0m             \u001b[0;31m# (B, C, L)\u001b[0m\u001b[0;34m\u001b[0m\u001b[0;34m\u001b[0m\u001b[0;34m\u001b[0m\u001b[0m\n\u001b[0;32m---> 47\u001b[0;31m             \u001b[0mg\u001b[0m \u001b[0;34m=\u001b[0m \u001b[0mtorch\u001b[0m\u001b[0;34m.\u001b[0m\u001b[0mbmm\u001b[0m\u001b[0;34m(\u001b[0m\u001b[0memb_c_norm\u001b[0m\u001b[0;34m,\u001b[0m \u001b[0memb_norm_t\u001b[0m\u001b[0;34m)\u001b[0m\u001b[0;34m\u001b[0m\u001b[0;34m\u001b[0m\u001b[0m\n\u001b[0m\u001b[1;32m     48\u001b[0m             \u001b[0mg\u001b[0m \u001b[0;34m=\u001b[0m \u001b[0mF\u001b[0m\u001b[0;34m.\u001b[0m\u001b[0mrelu\u001b[0m\u001b[0;34m(\u001b[0m\u001b[0mself\u001b[0m\u001b[0;34m.\u001b[0m\u001b[0mconv\u001b[0m\u001b[0;34m(\u001b[0m\u001b[0mg\u001b[0m\u001b[0;34m)\u001b[0m\u001b[0;34m)\u001b[0m\u001b[0;34m\u001b[0m\u001b[0;34m\u001b[0m\u001b[0m\n\u001b[1;32m     49\u001b[0m             \u001b[0;31m# (B, L, 1)]\u001b[0m\u001b[0;34m\u001b[0m\u001b[0;34m\u001b[0m\u001b[0;34m\u001b[0m\u001b[0m\n",
      "\u001b[0;31mRuntimeError\u001b[0m: cublas runtime error : the GPU program failed to execute at /pytorch/aten/src/THC/THCBlas.cu:441"
     ]
    }
   ],
   "source": [
    "data_dir = 'data/reuters'\n",
    "vocab_url = os.path.join(data_dir, 'vocab.pkl')\n",
    "train_url = os.path.join(data_dir, 'train')\n",
    "test_url = os.path.join(data_dir, 'test')\n",
    "vocab = pickle.load(open(vocab_url, 'rb'))\n",
    "vocab = list(zip(*sorted(vocab.items(), key=lambda x: x[1])))[0]\n",
    "vocab_size = len(vocab)\n",
    "\n",
    "train_set, train_labels, class_names = dataset(train_url)\n",
    "test_set, test_labels, _ = dataset(test_url)\n",
    "\n",
    "model = Leam_Classifier(vocab_size, len(class_names), 256, 256, 10, \n",
    "                        n_layer=1, dropout_rate=0.8, embpath=None, label_att=True, multilabel=True)            \n",
    "trainer = Trainer(batch_size=128, num_epoches=100, learning_rate=1e-3, valid_freq=10, model_type='embed')\n",
    "\n",
    "trainer.set_vocab(vocab)\n",
    "trainer.set_validation(test_set, test_labels)\n",
    "trainer.init_model(model)\n",
    "train_prob, train_beta = trainer.fit(train_set, train_labels, class_names)"
   ]
  },
  {
   "cell_type": "code",
   "execution_count": null,
   "metadata": {},
   "outputs": [],
   "source": [
    "# validation (test)\n",
    "val_prob, val_beta = trainer.predict(test_set)\n",
    "val_pred = val_prob > 0.5\n",
    "# test not seen in training (task)\n",
    "task_url = os.path.join(data_dir, 'task')\n",
    "seq_task, seq_labels, _ = dataset(task_url, monitor=False)\n",
    "test_prob, test_beta = trainer.predict(seq_task)\n",
    "test_pred = test_prob > 0.5\n",
    "multilabel_eval(seq_labels, test_pred, full=True)"
   ]
  },
  {
   "cell_type": "code",
   "execution_count": null,
   "metadata": {},
   "outputs": [],
   "source": [
    "# shwo results and highlights\n",
    "trains = zip(train_prob>0.5, train_labels, train_set, train_beta)\n",
    "vals = zip(val_pred, test_labels, test_set, val_beta)\n",
    "tests = zip(test_pred, seq_labels, seq_task, test_beta)\n",
    "\n",
    "def write(cache, name, max_len=80, imp=1.5e-2):\n",
    "    f.write('<p style=\"background-color:green;\">%s</p>'%name)\n",
    "    for pred, true, sent, recon in cache:\n",
    "        if (pred[true==1] != 1).all():\n",
    "            f.write('<p style=\"background-color:red;\">All Miss</p>')\n",
    "        elif (pred != true).any():\n",
    "            f.write('<p style=\"background-color:blue;\">Partial Wrong</p>')                    \n",
    "        f.write('<p>prediction: {}, true: {}</p>'.format(class_names[pred==1], class_names[true==1]))\n",
    "        f.write('<p>')\n",
    "\n",
    "        f.write('<p>')\n",
    "        for i, word in enumerate(sent):\n",
    "            if i >= max_len:\n",
    "                break\n",
    "            if beta[i] > imp:\n",
    "                f.write('<mark class=\"red\">{}</mark> '.format(vocab[word]))\n",
    "            else:\n",
    "                f.write('{} '.format(vocab[word]))                \n",
    "        f.write('</p>')    \n",
    "        f.write('<HR SIZE=5>')\n",
    "\n",
    "        \n",
    "with open('res.html', 'w', encoding='gbk') as f:\n",
    "    write(tests, 'Test', max_len=80, imp=1.5e-2)\n",
    "    write(vals, 'Validation', max_len=80, imp=1.5e-2)\n",
    "    write(trains, 'Train', max_len=80, imp=1.5e-2)"
   ]
  },
  {
   "cell_type": "markdown",
   "metadata": {},
   "source": [
    "## Embedding \n",
    "1-layer embeding without label attention, 2-layer mlp for classification"
   ]
  },
  {
   "cell_type": "code",
   "execution_count": null,
   "metadata": {},
   "outputs": [
    {
     "name": "stdout",
     "output_type": "stream",
     "text": [
      "--- epoch: 0 ---\n",
      "[0/100] loss_epoch : 0.25 val_match : 0.0978 match_epoch : 0.1300 val_hs : 0.1227 hs_epoch : 0.0544\n",
      "--- epoch: 10 ---\n",
      "[10/100] loss_epoch : 0.04 val_match : 0.0933 match_epoch : 0.4898 val_hs : 0.1236 hs_epoch : 0.4772\n",
      "--- epoch: 20 ---\n",
      "[20/100] loss_epoch : 0.03 val_match : 0.1892 match_epoch : 0.6409 val_hs : 0.4744 hs_epoch : 0.5744\n",
      "--- epoch: 30 ---\n",
      "[30/100] loss_epoch : 0.02 val_match : 0.2027 match_epoch : 0.7175 val_hs : 0.5745 hs_epoch : 0.6227\n",
      "--- epoch: 40 ---\n",
      "[40/100] loss_epoch : 0.02 val_match : 0.1905 match_epoch : 0.7669 val_hs : 0.6388 hs_epoch : 0.6623\n"
     ]
    }
   ],
   "source": [
    "data_dir = 'data/reuters'\n",
    "vocab_url = os.path.join(data_dir, 'vocab.pkl')\n",
    "train_url = os.path.join(data_dir, 'train')\n",
    "test_url = os.path.join(data_dir, 'test')\n",
    "vocab = pickle.load(open(vocab_url, 'rb'))\n",
    "vocab = list(zip(*sorted(vocab.items(), key=lambda x: x[1])))[0]\n",
    "vocab_size = len(vocab)\n",
    "\n",
    "train_set, train_labels, class_names = dataset(train_url)\n",
    "test_set, test_labels, _ = dataset(test_url)\n",
    "\n",
    "model = Leam_Classifier(vocab_size, len(class_names), 256, 256, 10, \n",
    "                        n_layer=2, dropout_rate=0.8, embpath=None, label_att=False, multilabel=True)            \n",
    "trainer = Trainer(batch_size=128, num_epoches=100, learning_rate=1e-3, valid_freq=10, model_type='embed')\n",
    "\n",
    "trainer.set_vocab(vocab)\n",
    "trainer.set_validation(test_set, test_labels)\n",
    "trainer.init_model(model)\n",
    "train_prob, train_beta = trainer.fit(train_set, train_labels, class_names)"
   ]
  },
  {
   "cell_type": "code",
   "execution_count": null,
   "metadata": {},
   "outputs": [],
   "source": [
    "task_url = os.path.join(data_dir, 'task')\n",
    "seq_task, seq_labels, _ = dataset(task_url, monitor=False)\n",
    "test_prob, test_beta = trainer.predict(seq_task)\n",
    "test_pred = test_prob > 0.5\n",
    "multilabel_eval(seq_labels, test_pred, full=True)"
   ]
  },
  {
   "cell_type": "markdown",
   "metadata": {},
   "source": [
    "## Bag of word\n",
    "2-layer mlp"
   ]
  },
  {
   "cell_type": "code",
   "execution_count": 12,
   "metadata": {},
   "outputs": [
    {
     "name": "stdout",
     "output_type": "stream",
     "text": [
      "--- epoch: 0 ---\n",
      "[0/100] loss_epoch : 0.25 val_match : 0.0940 match_epoch : 0.1670 val_hs : 0.1553 hs_epoch : 0.0642\n",
      "--- epoch: 10 ---\n",
      "[10/100] loss_epoch : 0.03 val_match : 0.0798 match_epoch : 0.6767 val_hs : 0.1705 hs_epoch : 0.5981\n",
      "--- epoch: 20 ---\n",
      "[20/100] loss_epoch : 0.02 val_match : 0.2040 match_epoch : 0.7781 val_hs : 0.6282 hs_epoch : 0.6705\n",
      "--- epoch: 30 ---\n",
      "[30/100] loss_epoch : 0.02 val_match : 0.2027 match_epoch : 0.8222 val_hs : 0.6947 hs_epoch : 0.7183\n",
      "--- epoch: 40 ---\n",
      "[40/100] loss_epoch : 0.01 val_match : 0.2033 match_epoch : 0.8454 val_hs : 0.7298 hs_epoch : 0.7345\n",
      "--- epoch: 50 ---\n",
      "[50/100] loss_epoch : 0.01 val_match : 0.2014 match_epoch : 0.8644 val_hs : 0.7543 hs_epoch : 0.7537\n",
      "--- epoch: 60 ---\n",
      "[60/100] loss_epoch : 0.01 val_match : 0.2053 match_epoch : 0.8737 val_hs : 0.7648 hs_epoch : 0.7636\n",
      "--- epoch: 70 ---\n",
      "[70/100] loss_epoch : 0.01 val_match : 0.2001 match_epoch : 0.8874 val_hs : 0.7644 hs_epoch : 0.7720\n",
      "--- epoch: 80 ---\n",
      "[80/100] loss_epoch : 0.01 val_match : 0.2066 match_epoch : 0.8867 val_hs : 0.7712 hs_epoch : 0.7747\n",
      "--- epoch: 90 ---\n",
      "[90/100] loss_epoch : 0.01 val_match : 0.2014 match_epoch : 0.8909 val_hs : 0.7773 hs_epoch : 0.7846\n",
      "Max_scores 0.20656370656370657 0.7773028130170987\n",
      "training {'match': 0.217538213998391, 'HS': 0.8336818245667803, 'f1': 0.8512343087322974, 'HL': 0.0038955930991329225, 'exact_acc': 0.7810136765888979, 'min_acc': 0.9821399839098954, 'density_chosen': 0.011863770447841244, 'density': 0.013714132475194422, 'precision': 0.8560758022704925, 'recal': 0.863444048575977, 'no_pred': 0.08624296057924377}\n",
      "validation {'match': 0.20012870012870013, 'HS': 0.7848486241343384, 'f1': 0.8031061673918817, 'HL': 0.004904904904904905, 'exact_acc': 0.7297297297297297, 'min_acc': 0.9665379665379665, 'density_chosen': 0.01128986128986129, 'density': 0.013677963677963678, 'precision': 0.8088665195808052, 'recal': 0.815787215786439, 'no_pred': 0.11068211068211069}\n"
     ]
    }
   ],
   "source": [
    "data_dir = 'data/reuters'\n",
    "vocab_url = os.path.join(data_dir, 'vocab.pkl')\n",
    "train_url = os.path.join(data_dir, 'train')\n",
    "test_url = os.path.join(data_dir, 'test')\n",
    "vocab = pickle.load(open(vocab_url, 'rb'))\n",
    "vocab = list(zip(*sorted(vocab.items(), key=lambda x: x[1])))[0]\n",
    "vocab_size = len(vocab)\n",
    "\n",
    "# bow\n",
    "train_set, train_labels, _, class_names = bow_dataset(train_url, vocab_size)\n",
    "test_set, test_labels, _, _ = bow_dataset(test_url, vocab_size)\n",
    "\n",
    "model = Classifier(vocab_size, len(class_names), n_layer=2, n_hidden=256, dropout_rate=0.8)\n",
    "trainer = Trainer(batch_size=128, num_epoches=100, learning_rate=1e-3, valid_freq=10, model_type='bow')\n",
    "\n",
    "trainer.set_vocab(vocab)\n",
    "trainer.set_validation(test_set, test_labels)\n",
    "trainer.init_model(model)\n",
    "train_prob = trainer.fit(train_set, train_labels, class_names)"
   ]
  },
  {
   "cell_type": "code",
   "execution_count": 17,
   "metadata": {},
   "outputs": [
    {
     "data": {
      "text/plain": [
       "{'match': 0.23285856243789335,\n",
       " 'HS': 0.7585126689217447,\n",
       " 'f1': 0.7763948023217746,\n",
       " 'HL': 0.005557395752824703,\n",
       " 'exact_acc': 0.7075190460417357,\n",
       " 'min_acc': 0.9662139781384564,\n",
       " 'density_chosen': 0.011092709138419638,\n",
       " 'density': 0.013779397151374627,\n",
       " 'precision': 0.7815603510618416,\n",
       " 'recal': 0.7900960582966946,\n",
       " 'no_pred': 0.12620072871811858}"
      ]
     },
     "execution_count": 17,
     "metadata": {},
     "output_type": "execute_result"
    }
   ],
   "source": [
    "task_url = os.path.join(data_dir, 'task')\n",
    "seq_task, seq_labels, _, _ = bow_dataset(task_url, vocab_size, monitor=False)\n",
    "test_prob, test_beta = trainer.predict(seq_task)\n",
    "test_pred = test_prob > 0.5\n",
    "multilabel_eval(seq_labels, test_pred, full=True)"
   ]
  },
  {
   "cell_type": "markdown",
   "metadata": {},
   "source": [
    "## CVAE\n",
    "bag of word, 1-layer encoder 1-layer decoder\n",
    "*slow"
   ]
  },
  {
   "cell_type": "code",
   "execution_count": 1,
   "metadata": {},
   "outputs": [],
   "source": [
    "import os\n",
    "from zsdm import *"
   ]
  },
  {
   "cell_type": "code",
   "execution_count": 6,
   "metadata": {
    "scrolled": true
   },
   "outputs": [
    {
     "name": "stdout",
     "output_type": "stream",
     "text": [
      "--- epoch: 0 ---\n",
      "[0/200] loss_epoch : 5.89 val_match : 0.8642 val_hs : 0.3176 match_epoch : 0.8500 hs_epoch : 0.3234\n",
      "--- epoch: 10 ---\n",
      "[10/200] loss_epoch : 2.36 val_match : 0.2786 val_hs : 0.6288 match_epoch : 0.2953 hs_epoch : 0.6401\n",
      "--- epoch: 20 ---\n",
      "[20/200] loss_epoch : 2.13 val_match : 0.2529 val_hs : 0.6561 match_epoch : 0.2563 hs_epoch : 0.6809\n",
      "--- epoch: 30 ---\n",
      "[30/200] loss_epoch : 2.04 val_match : 0.2851 val_hs : 0.6687 match_epoch : 0.2661 hs_epoch : 0.6991\n",
      "--- epoch: 40 ---\n",
      "[40/200] loss_epoch : 1.97 val_match : 0.2265 val_hs : 0.6835 match_epoch : 0.2396 hs_epoch : 0.7130\n",
      "--- epoch: 50 ---\n",
      "[50/200] loss_epoch : 1.92 val_match : 0.2407 val_hs : 0.6874 match_epoch : 0.2460 hs_epoch : 0.7217\n",
      "--- epoch: 60 ---\n",
      "[60/200] loss_epoch : 1.87 val_match : 0.2394 val_hs : 0.6898 match_epoch : 0.2336 hs_epoch : 0.7368\n",
      "--- epoch: 70 ---\n",
      "[70/200] loss_epoch : 1.84 val_match : 0.2291 val_hs : 0.6967 match_epoch : 0.2306 hs_epoch : 0.7342\n",
      "--- epoch: 80 ---\n",
      "[80/200] loss_epoch : 1.83 val_match : 0.2194 val_hs : 0.6898 match_epoch : 0.2328 hs_epoch : 0.7401\n",
      "--- epoch: 90 ---\n",
      "[90/200] loss_epoch : 1.82 val_match : 0.2458 val_hs : 0.6763 match_epoch : 0.2365 hs_epoch : 0.7373\n",
      "--- epoch: 100 ---\n",
      "[100/200] loss_epoch : 1.80 val_match : 0.2220 val_hs : 0.6789 match_epoch : 0.2280 hs_epoch : 0.7382\n",
      "--- epoch: 110 ---\n",
      "[110/200] loss_epoch : 1.81 val_match : 0.2349 val_hs : 0.6751 match_epoch : 0.2294 hs_epoch : 0.7382\n",
      "--- epoch: 120 ---\n",
      "[120/200] loss_epoch : 1.78 val_match : 0.2149 val_hs : 0.6930 match_epoch : 0.2220 hs_epoch : 0.7494\n",
      "--- epoch: 130 ---\n",
      "[130/200] loss_epoch : 1.80 val_match : 0.2214 val_hs : 0.6868 match_epoch : 0.2253 hs_epoch : 0.7519\n",
      "--- epoch: 140 ---\n",
      "[140/200] loss_epoch : 1.77 val_match : 0.2130 val_hs : 0.6776 match_epoch : 0.2211 hs_epoch : 0.7578\n",
      "--- epoch: 150 ---\n",
      "[150/200] loss_epoch : 1.77 val_match : 0.2156 val_hs : 0.6751 match_epoch : 0.2275 hs_epoch : 0.7542\n",
      "--- epoch: 160 ---\n",
      "[160/200] loss_epoch : 1.79 val_match : 0.2233 val_hs : 0.6792 match_epoch : 0.2278 hs_epoch : 0.7592\n",
      "--- epoch: 170 ---\n",
      "[170/200] loss_epoch : 1.78 val_match : 0.2503 val_hs : 0.6817 match_epoch : 0.2275 hs_epoch : 0.7575\n",
      "--- epoch: 180 ---\n",
      "[180/200] loss_epoch : 1.76 val_match : 0.2362 val_hs : 0.6692 match_epoch : 0.2259 hs_epoch : 0.7565\n",
      "--- epoch: 190 ---\n",
      "[190/200] loss_epoch : 1.77 val_match : 0.2033 val_hs : 0.6869 match_epoch : 0.2246 hs_epoch : 0.7524\n",
      "Max_scores 0.8642213642213642 0.6966963061500876\n"
     ]
    },
    {
     "data": {
      "image/png": "[encoded data removed]",
      "text/plain": [
       "<Figure size 432x288 with 1 Axes>"
      ]
     },
     "metadata": {
      "needs_background": "light"
     },
     "output_type": "display_data"
    },
    {
     "name": "stdout",
     "output_type": "stream",
     "text": [
      "{'match': 0.2315366049879324, 'HS': 0.7574372677470024, 'f1': 0.797125353863085, 'HL': 0.00835076427996782, 'exact_acc': 0.648592115848753, 'min_acc': 0.9290426387771521, 'density_chosen': 0.017009027798970542, 'density': 0.013714132475194422, 'precision': 0.8712529849697992, 'recal': 0.770386615261226, 'no_pred': 0.03153660498793242}\n"
     ]
    },
    {
     "data": {
      "image/png": "[encoded data removed]",
      "text/plain": [
       "<Figure size 432x288 with 1 Axes>"
      ]
     },
     "metadata": {
      "needs_background": "light"
     },
     "output_type": "display_data"
    },
    {
     "name": "stdout",
     "output_type": "stream",
     "text": [
      "{'match': 0.2323037323037323, 'HS': 0.6861099503956648, 'f1': 0.7247453033167318, 'HL': 0.010367510367510368, 'exact_acc': 0.5823680823680824, 'min_acc': 0.862934362934363, 'density_chosen': 0.016709566116333008, 'density': 0.013677963677963678, 'precision': 0.7936702008130581, 'recal': 0.7010834814399944, 'no_pred': 0.03861003861003861}\n"
     ]
    },
    {
     "data": {
      "text/plain": [
       "<Figure size 432x288 with 0 Axes>"
      ]
     },
     "metadata": {},
     "output_type": "display_data"
    }
   ],
   "source": [
    "data_dir = 'data/reuters'\n",
    "vocab_url = os.path.join(data_dir, 'vocab.pkl')\n",
    "train_url = os.path.join(data_dir, 'train')\n",
    "test_url = os.path.join(data_dir, 'test')\n",
    "vocab = pickle.load(open(vocab_url, 'rb'))\n",
    "vocab = list(zip(*sorted(vocab.items(), key=lambda x: x[1])))[0]\n",
    "vocab_size = len(vocab)\n",
    "\n",
    "train_set, train_labels, _, class_names = bow_dataset(train_url, vocab_size)\n",
    "test_set, test_labels, _, _ = bow_dataset(test_url, vocab_size)\n",
    "\n",
    "model = ZSDM(vocab_size, len(class_names), n_latent=128, attribute_size=50, \n",
    "             dropout_rate=0.8, n_hidden=256, tfidf=False)\n",
    "trainer = Trainer(batch_size=128, num_epoches=200, n_latent=128, n_topic=len(class_names), \n",
    "                  learning_rate=1e-3, valid_freq=10, model_type='bow')\n",
    "\n",
    "trainer.set_vocab(vocab)\n",
    "trainer.set_validation(test_set, test_labels)\n",
    "trainer.init_model(model)\n",
    "train_prob, test_prob, train_threshold, test_threshold = trainer.fit(train_set, train_labels, class_names)"
   ]
  },
  {
   "cell_type": "code",
   "execution_count": 8,
   "metadata": {},
   "outputs": [
    {
     "name": "stdout",
     "output_type": "stream",
     "text": [
      "{'match': 0.27393176548526, 'HS': 0.6766484086374779, 'f1': 0.7142140761965208, 'HL': 0.012447094328512015, 'exact_acc': 0.5809870818151706, 'min_acc': 0.8906922822126532, 'density_chosen': 0.018519745932685003, 'density': 0.013779397151374627, 'precision': 0.7919632371603224, 'recal': 0.6888518946727366, 'no_pred': 0.03544219940377608}\n"
     ]
    }
   ],
   "source": [
    "task_url = os.path.join(data_dir, 'task')\n",
    "seq_task, seq_labels, _, _ = bow_dataset(task_url, vocab_size, monitor=False)\n",
    "test_probs = trainer.compute_prob(seq_task)\n",
    "test_pred, threshold, score = trainer.find_class(test_probs, seq_labels, threshold=test_threshold)\n",
    "print(score)"
   ]
  },
  {
   "cell_type": "code",
   "execution_count": null,
   "metadata": {},
   "outputs": [],
   "source": []
  }
 ],
 "metadata": {
  "kernelspec": {
   "display_name": "Python 3",
   "language": "python",
   "name": "python3"
  },
  "language_info": {
   "codemirror_mode": {
    "name": "ipython",
    "version": 3
   },
   "file_extension": ".py",
   "mimetype": "text/x-python",
   "name": "python",
   "nbconvert_exporter": "python",
   "pygments_lexer": "ipython3",
   "version": "3.6.7"
  }
 },
 "nbformat": 4,
 "nbformat_minor": 2
}
